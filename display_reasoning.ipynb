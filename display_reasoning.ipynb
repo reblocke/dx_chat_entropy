{
 "cells": [
  {
   "cell_type": "markdown",
   "metadata": {},
   "source": [
    "graded transcript sooner than later for testing our proof of concept of the ability to graphically depict the bayesian estimator and individual LRs in series using our quintile system."
   ]
  },
  {
   "cell_type": "markdown",
   "metadata": {},
   "source": [
    "play around with the LRs in \"Column E\" to operationalize these metrics"
   ]
  },
  {
   "cell_type": "code",
   "execution_count": null,
   "metadata": {
    "vscode": {
     "languageId": "plaintext"
    }
   },
   "outputs": [],
   "source": [
    "asked 22 questions in this interview. Whether or not they captured key features for each \"node\" or \"diagnosis\" is designated in Column A as a \"Y\" (yes) or \"N\" (no). "
   ]
  },
  {
   "cell_type": "code",
   "execution_count": null,
   "metadata": {
    "vscode": {
     "languageId": "plaintext"
    }
   },
   "outputs": [],
   "source": [
    "You'll notice the key features are weighted according to our major vs minor scales. The excel sheet multiplies major features in the positive direction by 6, major features in the negative direction by 3, minor features in the positive direction by 2, and minor features in the negative direction by 1. "
   ]
  },
  {
   "cell_type": "markdown",
   "metadata": {},
   "source": [
    "\n",
    "Diagnostic Framework Node \n",
    "Pre-test quintile \n",
    "Expert's post-test quintiles\n",
    "PGY1's\n",
    "post-test quintiles \n",
    "Cardiac \n",
    "40-60 \n",
    "0-20 \n",
    "  40-60\n",
    "GERD \n",
    "40-60 \n",
    "40-60 \n",
    "             40-60\n",
    "Esophageal Dysphagia \n",
    "40-60 \n",
    "80-100 \n",
    "             80-100\n",
    "CREST \n",
    "0-20 \n",
    "80-100 \n",
    "             20-40\n",
    "RA \n",
    "0-20 \n",
    "20-40 \n",
    "             0-20\n",
    "\n",
    "The colored scales have arbitrary cut-offs, so just ignore them if they are confusing (they don't necessarily map to a quintile"
   ]
  },
  {
   "cell_type": "code",
   "execution_count": null,
   "metadata": {
    "vscode": {
     "languageId": "plaintext"
    }
   },
   "outputs": [],
   "source": [
    "A few questions to consider...\n",
    "First, do the bayesian LRs end up in the same quintile as our major / minor model? \n",
    "Second, how might we operationalize a multi-variable Bayesian estimator of total uncertainty reduction across the 22 question interview?\n",
    "Third, can we create a proof of concept (or code within excel) that automates bayesian calculations by question?"
   ]
  },
  {
   "cell_type": "markdown",
   "metadata": {},
   "source": [
    "Any other thoughts on what data you think might be informative? \n",
    "\n",
    "Finally, the GERD LRs in Table 1 confused me because they didn't seem to go in an intuitive direction (e.g. Hoarseness has a -LR of 0.82?). As a result, I did not include the lit based LRs for that sheet and instead used the regression to the mean method. Would you mind taking a look at these 2 references to see if you can make sense of them?"
   ]
  }
 ],
 "metadata": {
  "language_info": {
   "name": "python"
  }
 },
 "nbformat": 4,
 "nbformat_minor": 2
}
