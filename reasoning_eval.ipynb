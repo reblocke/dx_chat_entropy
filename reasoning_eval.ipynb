{
 "cells": [
  {
   "cell_type": "markdown",
   "metadata": {},
   "source": [
    "This notebook contains code for the \"production\" evaluation using Bayesian, Multi-class (softmax regression) reasoning. \n",
    "\n",
    "Specification: \n",
    "\n",
    "It takes as inputs: \n",
    "- a pdf output from the LLM chatpot\n",
    "- an excel spreadsheet that has the desired information (e.g. historical features, physical exam findings, and lab results), as well as binary LRs for the results (when known; if not known, this script will ask an LLM what it thinks)\n",
    "- pre-interview probabilities of each diagnosis \n",
    "\n",
    "As an output, it generates: \n",
    "- post-'test' probabilities of each diagnosis based on the information gathered by the learner"
   ]
  },
  {
   "cell_type": "code",
   "execution_count": null,
   "metadata": {},
   "outputs": [],
   "source": [
    "# TODO: Start Here"
   ]
  }
 ],
 "metadata": {
  "language_info": {
   "name": "python"
  }
 },
 "nbformat": 4,
 "nbformat_minor": 2
}
