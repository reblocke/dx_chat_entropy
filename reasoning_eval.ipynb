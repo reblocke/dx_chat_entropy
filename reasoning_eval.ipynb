{
 "cells": [
  {
   "cell_type": "markdown",
   "metadata": {},
   "source": [
    "This notebook contains code for the \"production\" evaluation using Bayesian, Multi-class (softmax regression) reasoning. \n",
    "\n",
    "Specification: \n",
    "\n",
    "It takes as inputs: \n",
    "- a pdf output from the LLM chatpot\n",
    "- an excel spreadsheet that has the desired information (e.g. historical features, physical exam findings, and lab results), as well as binary LRs for the results (when known; if not known, this script will ask an LLM what it thinks)\n",
    "- pre-interview probabilities of each diagnosis \n",
    "\n",
    "As an output, it generates: \n",
    "- post-'test' probabilities of each diagnosis based on the information gathered by the learner"
   ]
  },
  {
   "cell_type": "code",
   "execution_count": 1,
   "metadata": {},
   "outputs": [
    {
     "ename": "ModuleNotFoundError",
     "evalue": "No module named 'pystata'",
     "output_type": "error",
     "traceback": [
      "\u001b[0;31m---------------------------------------------------------------------------\u001b[0m",
      "\u001b[0;31mModuleNotFoundError\u001b[0m                       Traceback (most recent call last)",
      "Cell \u001b[0;32mIn[1], line 4\u001b[0m\n\u001b[1;32m      1\u001b[0m \u001b[38;5;66;03m# TODO: Start Here\u001b[39;00m\n\u001b[0;32m----> 4\u001b[0m \u001b[38;5;28;01mfrom\u001b[39;00m \u001b[38;5;21;01mpystata\u001b[39;00m \u001b[38;5;28;01mimport\u001b[39;00m st\n",
      "\u001b[0;31mModuleNotFoundError\u001b[0m: No module named 'pystata'"
     ]
    }
   ],
   "source": [
    "# TODO: Start Here\n",
    "\n",
    "\n",
    "from pystata import st"
   ]
  }
 ],
 "metadata": {
  "kernelspec": {
   "display_name": "base",
   "language": "python",
   "name": "python3"
  },
  "language_info": {
   "codemirror_mode": {
    "name": "ipython",
    "version": 3
   },
   "file_extension": ".py",
   "mimetype": "text/x-python",
   "name": "python",
   "nbconvert_exporter": "python",
   "pygments_lexer": "ipython3",
   "version": "3.12.7"
  }
 },
 "nbformat": 4,
 "nbformat_minor": 2
}
