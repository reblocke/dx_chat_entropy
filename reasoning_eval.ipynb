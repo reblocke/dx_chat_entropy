{
 "cells": [
  {
   "cell_type": "code",
   "execution_count": 4,
   "metadata": {},
   "outputs": [
    {
     "name": "stdout",
     "output_type": "stream",
     "text": [
      "[Errno 2] No such file or directory: '/content'\n",
      "/Users/blocke/Box Sync/Residency Personal Files/Scholarly Work/Locke Research Projects/dx_chat_entropy\n",
      "Cloning into '3b1b-wordle-solver'...\n",
      "remote: Enumerating objects: 242, done.\u001b[K\n",
      "remote: Counting objects: 100% (100/100), done.\u001b[K\n",
      "remote: Compressing objects: 100% (50/50), done.\u001b[K\n",
      "remote: Total 242 (delta 83), reused 60 (delta 50), pack-reused 142 (from 1)\u001b[K\n",
      "Receiving objects: 100% (242/242), 146.14 KiB | 1.03 MiB/s, done.\n",
      "Resolving deltas: 100% (156/156), done.\n",
      "/Users/blocke/Box Sync/Residency Personal Files/Scholarly Work/Locke Research Projects/dx_chat_entropy/3b1b-wordle-solver\n",
      "Note: you may need to restart the kernel to use updated packages.\n"
     ]
    }
   ],
   "source": [
    "%cd /content\n",
    "!git clone https://github.com/woctezuma/3b1b-wordle-solver.git\n",
    "%cd 3b1b-wordle-solver\n",
    "%pip install -q -r requirements.txt"
   ]
  },
  {
   "cell_type": "code",
   "execution_count": 5,
   "metadata": {},
   "outputs": [
    {
     "name": "stdout",
     "output_type": "stream",
     "text": [
      "zsh:1: command not found: wget\n"
     ]
    }
   ],
   "source": [
    "url=\"https://github.com/woctezuma/3b1b-wordle-solver/releases/download/wordle/pattern_matrix.npy\"\n",
    "!wget {url} -P data/wordle"
   ]
  },
  {
   "cell_type": "code",
   "execution_count": 6,
   "metadata": {},
   "outputs": [
    {
     "name": "stdout",
     "output_type": "stream",
     "text": [
      "zsh:1: command not found: wget\n"
     ]
    }
   ],
   "source": [
    "url=\"https://github.com/woctezuma/3b1b-wordle-solver/releases/download/dungleon/pattern_matrix.npy\"\n",
    "!wget {url} -P data/dungleon"
   ]
  },
  {
   "cell_type": "code",
   "execution_count": 7,
   "metadata": {},
   "outputs": [
    {
     "name": "stdout",
     "output_type": "stream",
     "text": [
      "usage: simulations.py [-h] [--game-name {wordle,dungleon}]\n",
      "                      [--first-guess FIRST_GUESS] [--test-answer TEST_ANSWER]\n",
      "                      [--max-info] [--flat-dist] [--look-ahead] [--shuffle]\n",
      "                      [--brute-force] [--hard-mode]\n",
      "\n",
      "options:\n",
      "  -h, --help            show this help message and exit\n",
      "  --game-name {wordle,dungleon}\n",
      "                        Game name\n",
      "  --first-guess FIRST_GUESS\n",
      "                        Pre-computed first guess\n",
      "  --test-answer TEST_ANSWER\n",
      "                        Solution with which to test the solver\n",
      "  --max-info            Purely maximize information\n",
      "  --flat-dist           Optimize for uniform distribution\n",
      "  --look-ahead          Look two ahead\n",
      "  --shuffle             Shuffle the test set\n",
      "  --brute-force         Perform brute-force optimization\n",
      "  --hard-mode           Play the hard mode\n"
     ]
    }
   ],
   "source": [
    "!python simulations.py -h"
   ]
  },
  {
   "cell_type": "code",
   "execution_count": 8,
   "metadata": {},
   "outputs": [],
   "source": [
    "!python simulations.py --game-name wordle"
   ]
  },
  {
   "cell_type": "code",
   "execution_count": null,
   "metadata": {},
   "outputs": [],
   "source": [
    "!python simulations.py --game-name dungleon --first-guess ZBCFS --test-answer WSGCO --hard-mode"
   ]
  },
  {
   "cell_type": "code",
   "execution_count": null,
   "metadata": {},
   "outputs": [],
   "source": [
    "%cp data/dungleon/possible_words.seen.txt data/dungleon/possible_words.txt"
   ]
  },
  {
   "cell_type": "code",
   "execution_count": null,
   "metadata": {},
   "outputs": [],
   "source": [
    "!python simulations.py --game-name dungleon --first-guess AWOCS --test-answer VMIFI --hard-mode"
   ]
  },
  {
   "cell_type": "code",
   "execution_count": null,
   "metadata": {},
   "outputs": [],
   "source": [
    "%cp data/dungleon/possible_words.seen.txt data/dungleon/possible_words.txt\n",
    "%cp data/dungleon/possible_words.seen.txt data/dungleon/allowed_words.txt"
   ]
  },
  {
   "cell_type": "code",
   "execution_count": null,
   "metadata": {},
   "outputs": [],
   "source": [
    "FOLDER_NAME = \"simulations\"\n",
    "%mkdir -p {FOLDER_NAME}"
   ]
  },
  {
   "cell_type": "code",
   "execution_count": null,
   "metadata": {},
   "outputs": [],
   "source": [
    "from pathlib import Path\n",
    "\n",
    "for l in Path('data/dungleon/possible_words.seen.txt').read_text().split('\\n'):\n",
    "  if l:\n",
    "    !python simulations.py --game-name dungleon --hard-mode --first-guess {l} | tail > {FOLDER_NAME}/{l}.txt"
   ]
  },
  {
   "cell_type": "code",
   "execution_count": null,
   "metadata": {},
   "outputs": [],
   "source": [
    "keyword = \"Total\"\n",
    "\n",
    "!grep {keyword} {FOLDER_NAME}/*.txt"
   ]
  }
 ],
 "metadata": {
  "language_info": {
   "name": "python"
  }
 },
 "nbformat": 4,
 "nbformat_minor": 2
}
